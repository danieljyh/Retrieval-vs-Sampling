{
 "cells": [
  {
   "cell_type": "code",
   "execution_count": 3,
   "metadata": {},
   "outputs": [],
   "source": [
    "import pandas as pd\n",
    "\n",
    "# Read Parquet file\n",
    "df = pd.read_parquet('../VideoEval-Pro/data/test-00000-of-00001.parquet')  # Uses pyarrow by default if available\n",
    "df.to_json('./output.json', orient='records', lines=True)"
   ]
  },
  {
   "cell_type": "code",
   "execution_count": 24,
   "metadata": {},
   "outputs": [
    {
     "name": "stdout",
     "output_type": "stream",
     "text": [
      "465\n"
     ]
    }
   ],
   "source": [
    "import json\n",
    "\n",
    "with open(\"./output.json\", \"r\") as f:\n",
    "    dataset = f.readlines()\n",
    "\n",
    "list_of_json = []\n",
    "video_ids = []\n",
    "for data in dataset:\n",
    "    data = json.loads(data)\n",
    "\n",
    "    options = data.pop(\"options\")\n",
    "    options = [option.split(\" \")[1] for option in options]\n",
    "    del data[\"answer\"]\n",
    "    video_id = data.pop(\"video\")\n",
    "\n",
    "    if video_id in video_ids:\n",
    "        tmp = [json for json in list_of_json if json[\"video_id\"] == video_id][0]\n",
    "        tmp[\"conversations\"].append({\n",
    "            \"question\": data.pop(\"question\"),\n",
    "            \"choices\": options,\n",
    "            \"answer\": data.pop(\"answer_text\"),\n",
    "            \"meta\": data.pop(\"meta\"),\n",
    "            \"qa_subtype\": data.pop(\"qa_subtype\"),\n",
    "            \"qa_type\": data.pop(\"qa_type\"),\n",
    "        })\n",
    "    else:\n",
    "        video_ids.append(video_id)\n",
    "\n",
    "        data[\"video_id\"] = video_id\n",
    "        data[\"video_path\"] = f\"data/videoeval_pro/videos/{video_id}\"\n",
    "        data[\"conversations\"] = [{\n",
    "            \"question\": data.pop(\"question\"),\n",
    "            \"choices\": options,\n",
    "            \"answer\": data.pop(\"answer_text\"),\n",
    "            \"meta\": data.pop(\"meta\"),\n",
    "            \"qa_subtype\": data.pop(\"qa_subtype\"),\n",
    "            \"qa_type\": data.pop(\"qa_type\"),\n",
    "        }]\n",
    "        list_of_json.append(data) \n",
    "\n",
    "print(len(list_of_json))\n",
    "\n",
    "with open(\"./test.json\", \"w\") as f:\n",
    "    json.dump(list_of_json, f, indent=4)\n"
   ]
  }
 ],
 "metadata": {
  "kernelspec": {
   "display_name": "rekv",
   "language": "python",
   "name": "python3"
  },
  "language_info": {
   "codemirror_mode": {
    "name": "ipython",
    "version": 3
   },
   "file_extension": ".py",
   "mimetype": "text/x-python",
   "name": "python",
   "nbconvert_exporter": "python",
   "pygments_lexer": "ipython3",
   "version": "3.11.13"
  }
 },
 "nbformat": 4,
 "nbformat_minor": 2
}
